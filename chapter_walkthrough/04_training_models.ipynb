{
 "cells": [
  {
   "cell_type": "code",
   "execution_count": 2,
   "id": "a708b1bd",
   "metadata": {},
   "outputs": [],
   "source": [
    "import sys\n",
    "\n",
    "assert sys.version_info >= (3, 7)\n",
    "\n",
    "from packaging import version\n",
    "import sklearn\n",
    "\n",
    "assert version.parse(sklearn.__version__) >= version.parse(\"1.0.1\")\n",
    "\n",
    "import matplotlib.pyplot as plt\n",
    "\n",
    "plt.rc('font', size=14)\n",
    "plt.rc('axes', labelsize=14, titlesize=14)\n",
    "plt.rc('legend', fontsize=14)\n",
    "plt.rc('xtick', labelsize=10)\n",
    "plt.rc('ytick', labelsize=10)\n",
    "\n",
    "from pathlib import Path\n",
    "\n",
    "IMAGES_PATH = Path() / \"images\" / \"training_linear_models\"\n",
    "IMAGES_PATH.mkdir(parents=True, exist_ok=True)\n",
    "\n",
    "def save_fig(fig_id, tight_layout=True, fig_extension=\"png\", resolution=300):\n",
    "    path = IMAGES_PATH / f\"{fig_id}.{fig_extension}\"\n",
    "    if tight_layout:\n",
    "        plt.tight_layout()\n",
    "    plt.savefig(path, format=fig_extension, dpi=resolution)"
   ]
  },
  {
   "cell_type": "markdown",
   "id": "103d8ac7",
   "metadata": {},
   "source": [
    "## Linear Regression \n",
    "### Normal equation"
   ]
  },
  {
   "cell_type": "code",
   "execution_count": 3,
   "id": "863ae53a",
   "metadata": {},
   "outputs": [],
   "source": [
    "import numpy as np \n",
    "\n",
    "np.random.seed(42) \n",
    "m = 100 \n",
    "X = 2 * np.random.rand(m, 1) \n",
    "y = 4 + 3 * X + np.random.randn(m, 1)"
   ]
  },
  {
   "cell_type": "code",
   "execution_count": 5,
   "id": "27d2dfa6",
   "metadata": {},
   "outputs": [
    {
     "data": {
      "text/plain": [
       "(100, 1)"
      ]
     },
     "execution_count": 5,
     "metadata": {},
     "output_type": "execute_result"
    }
   ],
   "source": [
    "X.shape"
   ]
  },
  {
   "cell_type": "code",
   "execution_count": 7,
   "id": "31b87784",
   "metadata": {},
   "outputs": [
    {
     "data": {
      "image/png": "[encoded data removed]",
      "text/plain": [
       "<Figure size 600x400 with 1 Axes>"
      ]
     },
     "metadata": {},
     "output_type": "display_data"
    }
   ],
   "source": [
    "import matplotlib.pyplot as plt \n",
    "\n",
    "plt.figure(figsize=(6,4))\n",
    "plt.plot(X, y, 'b.')\n",
    "plt.xlabel('y')\n",
    "plt.ylabel('y', rotation=0)\n",
    "plt.grid()\n",
    "plt.axis([0,2,0, 15])\n",
    "plt.show()"
   ]
  },
  {
   "cell_type": "code",
   "execution_count": null,
   "id": "7a1539fe",
   "metadata": {},
   "outputs": [],
   "source": [
    "# computing the normal equation \n",
    "# inv() is inverse of matrix \n",
    "# dot() is dot product \n",
    "\n",
    "from sklearn.preprocessing import add_dummy_feature \n",
    "\n",
    "X_b = add_dummy_feature(X) # add x0 = 1 to each instance "
   ]
  },
  {
   "cell_type": "code",
   "execution_count": 10,
   "id": "6443720b",
   "metadata": {},
   "outputs": [
    {
     "data": {
      "text/plain": [
       "array([[1.        , 0.74908024],\n",
       "       [1.        , 1.90142861],\n",
       "       [1.        , 1.46398788],\n",
       "       [1.        , 1.19731697],\n",
       "       [1.        , 0.31203728]])"
      ]
     },
     "execution_count": 10,
     "metadata": {},
     "output_type": "execute_result"
    }
   ],
   "source": [
    "X_b[:5]"
   ]
  },
  {
   "cell_type": "code",
   "execution_count": 11,
   "id": "b2cae64c",
   "metadata": {},
   "outputs": [
    {
     "data": {
      "text/plain": [
       "array([[0.74908024],\n",
       "       [1.90142861],\n",
       "       [1.46398788],\n",
       "       [1.19731697],\n",
       "       [0.31203728]])"
      ]
     },
     "execution_count": 11,
     "metadata": {},
     "output_type": "execute_result"
    }
   ],
   "source": [
    "X[:5]"
   ]
  },
  {
   "cell_type": "code",
   "execution_count": 14,
   "id": "8e18139c",
   "metadata": {},
   "outputs": [
    {
     "name": "stdout",
     "output_type": "stream",
     "text": [
      "[[4.21509616]\n",
      " [2.77011339]]\n"
     ]
    }
   ],
   "source": [
    "theta_best =  np.linalg.inv(X_b.T @ X_b) @ X_b.T @ y \n",
    "# @ is matrix multiplication same as np.matmul(A, B)\n",
    "print(theta_best)"
   ]
  },
  {
   "cell_type": "code",
   "execution_count": 16,
   "id": "d96274bd",
   "metadata": {},
   "outputs": [
    {
     "data": {
      "text/plain": [
       "' our y function starts with y = 4 + 3x + noise \\nwe wanted our theta_best to be as close as possible to 4, 3 but \\nwe see that the noise played a role. Generally the smaller and noisier \\nthe dataset is the harder it will be to get the best values'"
      ]
     },
     "execution_count": 16,
     "metadata": {},
     "output_type": "execute_result"
    }
   ],
   "source": [
    "''' our y function starts with y = 4 + 3x + noise \n",
    "we wanted our theta_best to be as close as possible to 4, 3 but \n",
    "we see that the noise played a role. Generally the smaller and noisier \n",
    "the dataset is the harder it will be to get the best values'''"
   ]
  },
  {
   "cell_type": "code",
   "execution_count": 17,
   "id": "ad72dfa9",
   "metadata": {},
   "outputs": [
    {
     "data": {
      "text/plain": [
       "((100, 2), (100, 1))"
      ]
     },
     "execution_count": 17,
     "metadata": {},
     "output_type": "execute_result"
    }
   ],
   "source": [
    "X_b.shape, y.shape"
   ]
  },
  {
   "cell_type": "code",
   "execution_count": 18,
   "id": "acb7e998",
   "metadata": {},
   "outputs": [
    {
     "name": "stdout",
     "output_type": "stream",
     "text": [
      "(2, 1) (2, 2)\n"
     ]
    },
    {
     "data": {
      "text/plain": [
       "array([[4.21509616],\n",
       "       [9.75532293]])"
      ]
     },
     "execution_count": 18,
     "metadata": {},
     "output_type": "execute_result"
    }
   ],
   "source": [
    "X_new = np.array([[0], [2]])\n",
    "X_new_b = add_dummy_feature(X_new)\n",
    "print(X_new.shape, X_new_b.shape)\n",
    "y_predict = X_new_b @ theta_best \n",
    "y_predict"
   ]
  },
  {
   "cell_type": "code",
   "execution_count": 22,
   "id": "4abf9052",
   "metadata": {},
   "outputs": [
    {
     "data": {
      "image/png": "[encoded data removed]",
      "text/plain": [
       "<Figure size 600x400 with 1 Axes>"
      ]
     },
     "metadata": {},
     "output_type": "display_data"
    }
   ],
   "source": [
    "plt.figure(figsize=(6,4))\n",
    "plt.plot(X_new, y_predict,  'r-', label='predictions')\n",
    "plt.plot(X, y, 'b.')\n",
    "plt.grid()\n",
    "plt.xlabel('x')\n",
    "plt.ylabel('y', rotation=0)\n",
    "plt.axis([0,2, 0, 15])\n",
    "plt.legend()\n",
    "plt.show()"
   ]
  },
  {
   "cell_type": "code",
   "execution_count": 23,
   "id": "1427c0af",
   "metadata": {},
   "outputs": [
    {
     "data": {
      "text/plain": [
       "(array([4.21509616]), array([[2.77011339]]))"
      ]
     },
     "execution_count": 23,
     "metadata": {},
     "output_type": "execute_result"
    }
   ],
   "source": [
    "from sklearn.linear_model import LinearRegression \n",
    "\n",
    "lin_reg = LinearRegression()\n",
    "lin_reg.fit(X,y)\n",
    "lin_reg.intercept_, lin_reg.coef_ \n"
   ]
  },
  {
   "cell_type": "code",
   "execution_count": 24,
   "id": "bfe9a4a3",
   "metadata": {},
   "outputs": [
    {
     "data": {
      "text/plain": [
       "array([[4.21509616],\n",
       "       [9.75532293]])"
      ]
     },
     "execution_count": 24,
     "metadata": {},
     "output_type": "execute_result"
    }
   ],
   "source": [
    "lin_reg.predict(X_new)"
   ]
  },
  {
   "cell_type": "code",
   "execution_count": 25,
   "id": "f2c5b7ff",
   "metadata": {},
   "outputs": [
    {
     "data": {
      "text/plain": [
       "array([[4.21509616],\n",
       "       [2.77011339]])"
      ]
     },
     "execution_count": 25,
     "metadata": {},
     "output_type": "execute_result"
    }
   ],
   "source": [
    "# bias term and feature weights are separated since numpy called \n",
    "# scipy.linalg.lstsq() (least squares)\n",
    "\n",
    "theta_best_svd, residuals, rank, s = np.linalg.lstsq(X_b, y, rcond=1e-6)\n",
    "theta_best_svd"
   ]
  },
  {
   "cell_type": "code",
   "execution_count": 26,
   "id": "2410b694",
   "metadata": {},
   "outputs": [
    {
     "data": {
      "text/plain": [
       "array([[4.21509616],\n",
       "       [2.77011339]])"
      ]
     },
     "execution_count": 26,
     "metadata": {},
     "output_type": "execute_result"
    }
   ],
   "source": [
    "# the above function is theta = x^+ * y where x^+ is the pseudoinverse \n",
    "# also called the Moore-Penrose inverse \n",
    "\n",
    "np.linalg.pinv(X_b) @ y"
   ]
  },
  {
   "cell_type": "code",
   "execution_count": 27,
   "id": "a61b29c7",
   "metadata": {},
   "outputs": [
    {
     "data": {
      "text/plain": [
       "' pseudoinverse itself is computed using the singular value decomposition that decompose the training set matrix into three separate matrix. See numpy.linalg.svd(). But this is done because it is more efficient then the computing the normal equation as well as handles edge cases extremely well (e.g when a matrix cannot be inverted the pseudoinvese will still be defined'"
      ]
     },
     "execution_count": 27,
     "metadata": {},
     "output_type": "execute_result"
    }
   ],
   "source": [
    "\"\"\" pseudoinverse itself is computed using the singular value decomposition that decompose the training set matrix into three separate matrix. See numpy.linalg.svd(). But this is done because it is more efficient then the computing the normal equation as well as handles edge cases extremely well (e.g when a matrix cannot be inverted the pseudoinvese will still be defined\"\"\""
   ]
  },
  {
   "cell_type": "code",
   "execution_count": null,
   "id": "5e965ac9",
   "metadata": {},
   "outputs": [],
   "source": []
  }
 ],
 "metadata": {
  "kernelspec": {
   "display_name": "machine_learning",
   "language": "python",
   "name": "python3"
  },
  "language_info": {
   "codemirror_mode": {
    "name": "ipython",
    "version": 3
   },
   "file_extension": ".py",
   "mimetype": "text/x-python",
   "name": "python",
   "nbconvert_exporter": "python",
   "pygments_lexer": "ipython3",
   "version": "3.8.19"
  }
 },
 "nbformat": 4,
 "nbformat_minor": 5
}
